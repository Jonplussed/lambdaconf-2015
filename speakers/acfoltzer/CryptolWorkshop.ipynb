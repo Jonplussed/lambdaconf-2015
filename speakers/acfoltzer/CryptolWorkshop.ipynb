{
 "cells": [
  {
   "cell_type": "markdown",
   "metadata": {},
   "source": [
    "# Intro to Cryptol and High Assurance Crypto Engineering\n",
    "\n",
    "## LambdaConf 2015\n",
    "\n",
    "### Adam Foltzer, Research Engineer at Galois, Inc."
   ]
  },
  {
   "cell_type": "markdown",
   "metadata": {},
   "source": [
    "## Resources for the Workshop\n",
    "\n",
    "- Cryptol: <http://www.cryptol.net/downloads.html>\n",
    "- Programming Cryptol book: <http://www.cryptol.net/files/ProgrammingCryptol.pdf>\n",
    "- Workshop materials: <https://github.com/degoes-consulting/lambdaconf-2015/tree/master/speakers/acfoltzer>\n",
    "- ICryptol Notebook (for the adventurous): <https://github.com/GaloisInc/ICryptol>"
   ]
  },
  {
   "cell_type": "markdown",
   "metadata": {},
   "source": [
    "## Goals\n",
    "\n",
    "- Understand the purpose of the Cryptol language and its role in high-assurance engineering\n",
    "- Create and modify cryptographic programs in Cryptol\n",
    "- Use the interactive Cryptol interpreter to develop, test, and prove properties about Cryptol programs\n",
    "- Learn how to participate in the Cryptol open source community\n",
    "- Anything else? "
   ]
  },
  {
   "cell_type": "markdown",
   "metadata": {},
   "source": [
    "## Outline\n",
    "\n",
    "- Introduce Cryptol _(~15 min)_\n",
    "- Hands-on lab for Chapter 2 _(~10 min)_\n",
    "    - Get familiar with the Cryptol interpreter and basic expressions\n",
    "- Learn more Cryptol via examples and exercises _(~20 min)_\n",
    "- Hands-on lab for Chapter 3 _(~15 min)_\n",
    "    - Classical cryptosystems: Caesar, Vigenère, Scytale\n",
    "\n",
    "\n",
    "- Break _(~10min)_\n",
    "\n",
    "\n",
    "- Introduce property-driven development _(~15min)_\n",
    "- Property-driven development exercises _(~20min)_\n",
    "    - Hands-on lab for Chapter 5\n",
    "    - Use :check, :sat, and :prove\n",
    "- ZUC cipher demo and closing discussion _(~15min)_"
   ]
  },
  {
   "cell_type": "markdown",
   "metadata": {},
   "source": [
    "## Formal Methods\n",
    "\n",
    "- How can software and systems be made robust (safe, secure, correct) in a cost-effective manner?\n",
    "- How can one obtain high assurance that a design has been faithfully implemented?\n",
    "- How can we ensure that other people’s systems are secure?\n",
    "- How can we compose a secure solution from black-box components?\n",
    "\n",
    "\n",
    "- _Formal Methods_ are verification techniques that work by building a mathematical model of an artifact and proving properties about it\n",
    "- Formal methods are _complementary_ to testing\n",
    "    - Testing techniques generate weak evidence about the real artifact **Worry: Have I tested enough?**\n",
    "    - Formal methods generate strong evidence about a model of the artifact **Worry: Is the model faithful enough?**"
   ]
  },
  {
   "cell_type": "markdown",
   "metadata": {},
   "source": [
    "### Our Take\n",
    "\n",
    "- Let the software itself be trustworthy\n",
    "    - Software artifacts to speak for themselves\n",
    "    - Reduce reliance on the process that created them\n",
    "- Use mathematical models to enable tractable analysis\n",
    "    - Executable models and formal methods\n",
    "    - A model is an abstraction that allows thought at a higher level\n",
    "- Follow open standards\n",
    "    - Build individual components with high internal integrity\n",
    "    - Maximize interoperability"
   ]
  },
  {
   "cell_type": "markdown",
   "metadata": {},
   "source": [
    "## Cryptol: Applying Formal Methods to Cryptography\n",
    "\n",
    "- Cryptography lacks clear reference implementations:\n",
    "\n",
    "<img src=\"files/images/crypto.png\" alt=\"A C implementation of a crypto function, along with its mathematical specification\">"
   ]
  },
  {
   "cell_type": "markdown",
   "metadata": {
    "collapsed": true
   },
   "source": [
    "- Cryptol is a domain-specific language for specifying cryptographic algorithms:\n",
    "- Size-polymorphic, and statically-typed with type inference\n",
    "- Lightweight Haskell-style module system\n",
    "- Interpreter with a read-eval-print loop (REPL)\n",
    "- Transparent integration with SAT and SMT solvers for proving properties expressed in Cryptol"
   ]
  },
  {
   "cell_type": "markdown",
   "metadata": {},
   "source": [
    "### Cryptol Specifications\n",
    "\n",
    "- File of mathematical definitions\n",
    "    - Two kinds of definitions: values (`x`) and functions (`F`)\n",
    "    - Definitions may be accompanied by a type declarations (a signature)\n",
    "- Definitions are computationally neutral\n",
    "    - Cryptol tools provide the computational content (interpreters, compilers, code generators, verifiers) \n",
    "- Domain-specific data and control abstractions\n",
    "    - Sequences (as in the definition of `x`)\n",
    "    - Recurrence relations rather than loops\n",
    "- Algorithms parameterized on size\n",
    "    - Size constraints are explicit in many specs\n",
    "    - Number of iterations may depend on size\n",
    "    - A sized type system captures and maintains size constraints"
   ]
  },
  {
   "cell_type": "markdown",
   "metadata": {},
   "source": [
    "## Basic Cryptol REPL Commands\n",
    "\n",
    "_N.B., these first few don't work in ICryptol notebooks_\n",
    "\n",
    "- Load a module or a file\n",
    "\n",
    "```\n",
    ":m AES\n",
    ":l AES.cry\n",
    "```\n",
    "\n",
    "- Reload the current file\n",
    "\n",
    "```\n",
    ":r\n",
    "```\n",
    "\n",
    "- Edit the current file\n",
    "\n",
    "```\n",
    ":e\n",
    "```\n",
    "\n",
    "- Quit the interpreter\n",
    "\n",
    "```\n",
    ":q\n",
    "```\n",
    "\n",
    "- Tab-complete identifiers"
   ]
  },
  {
   "cell_type": "markdown",
   "metadata": {},
   "source": [
    "- Browse current definitions"
   ]
  },
  {
   "cell_type": "code",
   "execution_count": 1,
   "metadata": {
    "collapsed": false
   },
   "outputs": [
    {
     "data": {
      "text/plain": [
       "Type Synonyms\n"
      ]
     },
     "metadata": {},
     "output_type": "display_data"
    },
    {
     "data": {
      "text/plain": [
       "=============\n"
      ]
     },
     "metadata": {},
     "output_type": "display_data"
    },
    {
     "data": {
      "text/plain": [
       "    type Bool = Bit\n",
       "    type Char = [8]\n",
       "    type String n = [n][8]\n",
       "    type Word n = [n]\n"
      ]
     },
     "metadata": {},
     "output_type": "display_data"
    },
    {
     "data": {
      "text/plain": [
       "\n"
      ]
     },
     "metadata": {},
     "output_type": "display_data"
    },
    {
     "data": {
      "text/plain": [
       "Symbols\n"
      ]
     },
     "metadata": {},
     "output_type": "display_data"
    },
    {
     "data": {
      "text/plain": [
       "=======\n"
      ]
     },
     "metadata": {},
     "output_type": "display_data"
    },
    {
     "data": {
      "text/plain": [
       "    drop : {front, back, elem} (fin front) => [front +\n",
       "                                               back]elem -> [back]elem\n",
       "    groupBy : {each, parts, elem} (fin each) => [parts *\n",
       "                                                 each]elem -> [parts][each]elem\n",
       "    splitBy : {parts, each, elem} (fin each) => [each *\n",
       "                                                 parts]elem -> [parts][each]elem\n",
       "    tail : {a, b} [1 + a]b -> [a]b\n",
       "    take : {front, back, elem} (fin front) => [front +\n",
       "                                               back]elem -> [front]elem\n",
       "    undefined : {a} a\n",
       "    width : {bits, len, elem} (fin len, fin bits,\n",
       "                               bits >= width len) => [len]elem -> [bits]\n"
      ]
     },
     "metadata": {},
     "output_type": "display_data"
    },
    {
     "data": {
      "text/plain": [
       "\n"
      ]
     },
     "metadata": {},
     "output_type": "display_data"
    },
    {
     "data": {
      "text/html": [],
      "text/plain": []
     },
     "metadata": {},
     "output_type": "display_data"
    }
   ],
   "source": [
    ":browse"
   ]
  },
  {
   "cell_type": "markdown",
   "metadata": {},
   "source": [
    "- Get the type of an expression"
   ]
  },
  {
   "cell_type": "code",
   "execution_count": 2,
   "metadata": {
    "collapsed": false
   },
   "outputs": [
    {
     "data": {
      "text/plain": [
       "1 + 2 : {a} (fin a, a >= 2) => [a]\n"
      ]
     },
     "metadata": {},
     "output_type": "display_data"
    },
    {
     "data": {
      "text/plain": [
       "(+) : {a} (Arith a) => a -> a -> a\n"
      ]
     },
     "metadata": {},
     "output_type": "display_data"
    },
    {
     "data": {
      "text/plain": [
       "width : {bits, len, elem} (fin len, fin bits,\n",
       "                           bits >= width len) => [len]elem -> [bits]\n"
      ]
     },
     "metadata": {},
     "output_type": "display_data"
    },
    {
     "data": {
      "text/html": [],
      "text/plain": []
     },
     "metadata": {},
     "output_type": "display_data"
    }
   ],
   "source": [
    ":type 1+2\n",
    ":type (+)\n",
    ":type width"
   ]
  },
  {
   "cell_type": "markdown",
   "metadata": {},
   "source": [
    "- Set the base for output"
   ]
  },
  {
   "cell_type": "code",
   "execution_count": 3,
   "metadata": {
    "collapsed": false
   },
   "outputs": [
    {
     "data": {
      "text/plain": [
       "Assuming a = 4\n"
      ]
     },
     "metadata": {},
     "output_type": "display_data"
    },
    {
     "data": {
      "text/plain": [
       "0o12\n"
      ]
     },
     "metadata": {},
     "output_type": "display_data"
    },
    {
     "data": {
      "text/html": [],
      "text/plain": []
     },
     "metadata": {},
     "output_type": "display_data"
    }
   ],
   "source": [
    ":set base=8\n",
    "10"
   ]
  },
  {
   "cell_type": "markdown",
   "metadata": {},
   "source": [
    "- Show 8-bit sequences as ASCII"
   ]
  },
  {
   "cell_type": "code",
   "execution_count": 4,
   "metadata": {
    "collapsed": false
   },
   "outputs": [
    {
     "data": {
      "text/plain": [
       "\"Hello\"\n"
      ]
     },
     "metadata": {},
     "output_type": "display_data"
    },
    {
     "data": {
      "text/html": [],
      "text/plain": []
     },
     "metadata": {},
     "output_type": "display_data"
    }
   ],
   "source": [
    ":set base=16\n",
    ":set ascii=on\n",
    "[0x48, 0x65, 0x6c, 0x6c, 0x6f] : [5][8]"
   ]
  },
  {
   "cell_type": "markdown",
   "metadata": {},
   "source": [
    "- Show all available commands"
   ]
  },
  {
   "cell_type": "code",
   "execution_count": 5,
   "metadata": {
    "collapsed": false
   },
   "outputs": [
    {
     "data": {
      "text/plain": [
       "  :t, :type          check the type of an expression\n"
      ]
     },
     "metadata": {},
     "output_type": "display_data"
    },
    {
     "data": {
      "text/plain": [
       "  :b, :browse        display the current environment\n"
      ]
     },
     "metadata": {},
     "output_type": "display_data"
    },
    {
     "data": {
      "text/plain": [
       "  :?, :help          display a brief description about a built-in operator\n"
      ]
     },
     "metadata": {},
     "output_type": "display_data"
    },
    {
     "data": {
      "text/plain": [
       "  :s, :set           set an environmental option (:set on its own displays current values)\n"
      ]
     },
     "metadata": {},
     "output_type": "display_data"
    },
    {
     "data": {
      "text/plain": [
       "  :check             use random testing to check that the argument always returns true (if no argument, check all properties)\n"
      ]
     },
     "metadata": {},
     "output_type": "display_data"
    },
    {
     "data": {
      "text/plain": [
       "  :exhaust           use exhaustive testing to prove that the argument always returns true (if no argument, check all properties)\n"
      ]
     },
     "metadata": {},
     "output_type": "display_data"
    },
    {
     "data": {
      "text/plain": [
       "  :prove             use an external solver to prove that the argument always returns true (if no argument, check all properties)\n"
      ]
     },
     "metadata": {},
     "output_type": "display_data"
    },
    {
     "data": {
      "text/plain": [
       "  :sat               use a solver to find a satisfying assignment for which the argument returns true (if no argument, find an assignment for all properties)\n"
      ]
     },
     "metadata": {},
     "output_type": "display_data"
    },
    {
     "data": {
      "text/plain": [
       "  :debug_specialize  do type specialization on a closed expression\n"
      ]
     },
     "metadata": {},
     "output_type": "display_data"
    },
    {
     "data": {
      "text/plain": [
       "  :q, :quit          exit the REPL\n"
      ]
     },
     "metadata": {},
     "output_type": "display_data"
    },
    {
     "data": {
      "text/plain": [
       "  :l, :load          load a module\n"
      ]
     },
     "metadata": {},
     "output_type": "display_data"
    },
    {
     "data": {
      "text/plain": [
       "  :r, :reload        reload the currently loaded module\n"
      ]
     },
     "metadata": {},
     "output_type": "display_data"
    },
    {
     "data": {
      "text/plain": [
       "  :e, :edit          edit the currently loaded module\n"
      ]
     },
     "metadata": {},
     "output_type": "display_data"
    },
    {
     "data": {
      "text/plain": [
       "  :!                 execute a command in the shell\n"
      ]
     },
     "metadata": {},
     "output_type": "display_data"
    },
    {
     "data": {
      "text/plain": [
       "  :cd                set the current working directory\n"
      ]
     },
     "metadata": {},
     "output_type": "display_data"
    },
    {
     "data": {
      "text/plain": [
       "  :m, :module        load a module\n"
      ]
     },
     "metadata": {},
     "output_type": "display_data"
    },
    {
     "data": {
      "text/html": [],
      "text/plain": []
     },
     "metadata": {},
     "output_type": "display_data"
    }
   ],
   "source": [
    ":help"
   ]
  },
  {
   "cell_type": "markdown",
   "metadata": {},
   "source": [
    "- Show available user settings"
   ]
  },
  {
   "cell_type": "code",
   "execution_count": 6,
   "metadata": {
    "collapsed": false
   },
   "outputs": [
    {
     "data": {
      "text/plain": [
       "ascii = on\n"
      ]
     },
     "metadata": {},
     "output_type": "display_data"
    },
    {
     "data": {
      "text/plain": [
       "base = 16\n"
      ]
     },
     "metadata": {},
     "output_type": "display_data"
    },
    {
     "data": {
      "text/plain": [
       "debug = off\n"
      ]
     },
     "metadata": {},
     "output_type": "display_data"
    },
    {
     "data": {
      "text/plain": [
       "infLength = 5\n"
      ]
     },
     "metadata": {},
     "output_type": "display_data"
    },
    {
     "data": {
      "text/plain": [
       "iteSolver = off\n"
      ]
     },
     "metadata": {},
     "output_type": "display_data"
    },
    {
     "data": {
      "text/plain": [
       "mono-binds = on\n"
      ]
     },
     "metadata": {},
     "output_type": "display_data"
    },
    {
     "data": {
      "text/plain": [
       "prover = cvc4\n"
      ]
     },
     "metadata": {},
     "output_type": "display_data"
    },
    {
     "data": {
      "text/plain": [
       "satNum = 1\n"
      ]
     },
     "metadata": {},
     "output_type": "display_data"
    },
    {
     "data": {
      "text/plain": [
       "smtfile = -\n"
      ]
     },
     "metadata": {},
     "output_type": "display_data"
    },
    {
     "data": {
      "text/plain": [
       "tc-debug = 0\n"
      ]
     },
     "metadata": {},
     "output_type": "display_data"
    },
    {
     "data": {
      "text/plain": [
       "tc-solver = cvc4 --lang=smt2 --incremental --rewrite-divk\n"
      ]
     },
     "metadata": {},
     "output_type": "display_data"
    },
    {
     "data": {
      "text/plain": [
       "tests = 100\n"
      ]
     },
     "metadata": {},
     "output_type": "display_data"
    },
    {
     "data": {
      "text/plain": [
       "warnDefaulting = off\n"
      ]
     },
     "metadata": {},
     "output_type": "display_data"
    },
    {
     "data": {
      "text/plain": [
       "warnShadowing = off\n"
      ]
     },
     "metadata": {},
     "output_type": "display_data"
    },
    {
     "data": {
      "text/html": [],
      "text/plain": []
     },
     "metadata": {},
     "output_type": "display_data"
    }
   ],
   "source": [
    ":set"
   ]
  },
  {
   "cell_type": "markdown",
   "metadata": {},
   "source": [
    "## Basic Cryptol Expressions"
   ]
  },
  {
   "cell_type": "markdown",
   "metadata": {},
   "source": [
    "### Bits"
   ]
  },
  {
   "cell_type": "code",
   "execution_count": 7,
   "metadata": {
    "collapsed": false
   },
   "outputs": [
    {
     "data": {
      "text/html": [],
      "text/plain": []
     },
     "metadata": {},
     "output_type": "display_data"
    }
   ],
   "source": [
    "p = True\n",
    "q = False"
   ]
  },
  {
   "cell_type": "markdown",
   "metadata": {},
   "source": [
    "### Homogeneous sequences"
   ]
  },
  {
   "cell_type": "code",
   "execution_count": 8,
   "metadata": {
    "collapsed": false
   },
   "outputs": [
    {
     "data": {
      "text/html": [],
      "text/plain": []
     },
     "metadata": {},
     "output_type": "display_data"
    }
   ],
   "source": [
    "xs : [7]Bit\n",
    "xs = [False, True, False, True, False, False, True]"
   ]
  },
  {
   "cell_type": "code",
   "execution_count": 9,
   "metadata": {
    "collapsed": false
   },
   "outputs": [
    {
     "data": {
      "text/plain": [
       "False\n"
      ]
     },
     "metadata": {},
     "output_type": "display_data"
    },
    {
     "data": {
      "text/html": [],
      "text/plain": []
     },
     "metadata": {},
     "output_type": "display_data"
    }
   ],
   "source": [
    "xs @ 0"
   ]
  },
  {
   "cell_type": "code",
   "execution_count": 10,
   "metadata": {
    "collapsed": false
   },
   "outputs": [
    {
     "data": {
      "text/plain": [
       "True\n"
      ]
     },
     "metadata": {},
     "output_type": "display_data"
    },
    {
     "data": {
      "text/html": [],
      "text/plain": []
     },
     "metadata": {},
     "output_type": "display_data"
    }
   ],
   "source": [
    "xs ! 0"
   ]
  },
  {
   "cell_type": "code",
   "execution_count": 11,
   "metadata": {
    "collapsed": false
   },
   "outputs": [
    {
     "data": {
      "text/plain": [
       "Assuming a = 4\n"
      ]
     },
     "metadata": {},
     "output_type": "display_data"
    },
    {
     "data": {
      "text/plain": [
       "[0x1, 0x2, 0x3, 0x4, 0x5, 0x3, 0x6, 0x8]\n"
      ]
     },
     "metadata": {},
     "output_type": "display_data"
    },
    {
     "data": {
      "text/html": [],
      "text/plain": []
     },
     "metadata": {},
     "output_type": "display_data"
    }
   ],
   "source": [
    "[1 .. 5] # [3, 6, 8]"
   ]
  },
  {
   "cell_type": "code",
   "execution_count": 12,
   "metadata": {
    "collapsed": false
   },
   "outputs": [
    {
     "data": {
      "text/plain": [
       "Assuming a = 2\n"
      ]
     },
     "metadata": {},
     "output_type": "display_data"
    },
    {
     "data": {
      "text/plain": [
       "[0x2, 0x3, 0x0, 0x0]\n"
      ]
     },
     "metadata": {},
     "output_type": "display_data"
    },
    {
     "data": {
      "text/html": [],
      "text/plain": []
     },
     "metadata": {},
     "output_type": "display_data"
    }
   ],
   "source": [
    "[0, 1, 2, 3] << 2"
   ]
  },
  {
   "cell_type": "code",
   "execution_count": 13,
   "metadata": {
    "collapsed": false
   },
   "outputs": [
    {
     "data": {
      "text/plain": [
       "Assuming a = 2\n"
      ]
     },
     "metadata": {},
     "output_type": "display_data"
    },
    {
     "data": {
      "text/plain": [
       "[0x2, 0x3, 0x0, 0x1]\n"
      ]
     },
     "metadata": {},
     "output_type": "display_data"
    },
    {
     "data": {
      "text/html": [],
      "text/plain": []
     },
     "metadata": {},
     "output_type": "display_data"
    }
   ],
   "source": [
    "[0, 1, 2, 3] <<< 2"
   ]
  },
  {
   "cell_type": "markdown",
   "metadata": {},
   "source": [
    "### Nested sequences"
   ]
  },
  {
   "cell_type": "code",
   "execution_count": 14,
   "metadata": {
    "collapsed": false
   },
   "outputs": [
    {
     "data": {
      "text/html": [],
      "text/plain": []
     },
     "metadata": {},
     "output_type": "display_data"
    }
   ],
   "source": [
    "ys : [2][4][4]Bit\n",
    "ys = [[1, 2, 3, 4], [5, 6, 7, 8]]"
   ]
  },
  {
   "cell_type": "code",
   "execution_count": 15,
   "metadata": {
    "collapsed": false
   },
   "outputs": [
    {
     "data": {
      "text/plain": [
       "[0x1, 0x2, 0x3, 0x4]\n"
      ]
     },
     "metadata": {},
     "output_type": "display_data"
    },
    {
     "data": {
      "text/html": [],
      "text/plain": []
     },
     "metadata": {},
     "output_type": "display_data"
    }
   ],
   "source": [
    "ys @ 0"
   ]
  },
  {
   "cell_type": "code",
   "execution_count": 16,
   "metadata": {
    "collapsed": false
   },
   "outputs": [
    {
     "data": {
      "text/plain": [
       "[[0x1, 0x2, 0x3, 0x4], [0x5, 0x6, 0x7, 0x8]]\n"
      ]
     },
     "metadata": {},
     "output_type": "display_data"
    },
    {
     "data": {
      "text/html": [],
      "text/plain": []
     },
     "metadata": {},
     "output_type": "display_data"
    }
   ],
   "source": [
    "ys @@ [0,1]"
   ]
  },
  {
   "cell_type": "code",
   "execution_count": 17,
   "metadata": {
    "collapsed": false
   },
   "outputs": [
    {
     "data": {
      "text/plain": [
       "Assuming a = 2\n"
      ]
     },
     "metadata": {},
     "output_type": "display_data"
    },
    {
     "data": {
      "text/plain": [
       "0x2\n"
      ]
     },
     "metadata": {},
     "output_type": "display_data"
    },
    {
     "data": {
      "text/html": [],
      "text/plain": []
     },
     "metadata": {},
     "output_type": "display_data"
    }
   ],
   "source": [
    "width ys"
   ]
  },
  {
   "cell_type": "markdown",
   "metadata": {},
   "source": [
    "### Sequence comprehensions"
   ]
  },
  {
   "cell_type": "code",
   "execution_count": 18,
   "metadata": {
    "collapsed": false
   },
   "outputs": [
    {
     "data": {
      "text/plain": [
       "Assuming a = 4\n"
      ]
     },
     "metadata": {},
     "output_type": "display_data"
    },
    {
     "data": {
      "text/plain": [
       "[0x5, 0x7, 0x9, 0xb, 0xf]\n"
      ]
     },
     "metadata": {},
     "output_type": "display_data"
    },
    {
     "data": {
      "text/html": [],
      "text/plain": []
     },
     "metadata": {},
     "output_type": "display_data"
    }
   ],
   "source": [
    "[ 2*x + 3 | x <- [1, 2, 3, 4] ] # [15]"
   ]
  },
  {
   "cell_type": "markdown",
   "metadata": {},
   "source": [
    "### Words\n",
    "\n",
    "- Words are sequences of bits\n",
    "- Arithmetic is modulo word size"
   ]
  },
  {
   "cell_type": "code",
   "execution_count": 19,
   "metadata": {
    "collapsed": false
   },
   "outputs": [
    {
     "data": {
      "text/html": [],
      "text/plain": []
     },
     "metadata": {},
     "output_type": "display_data"
    }
   ],
   "source": [
    "x, y, z : [8]\n",
    "x = 123\n",
    "y = 0xF4\n",
    "z = 0b11110100"
   ]
  },
  {
   "cell_type": "code",
   "execution_count": 20,
   "metadata": {
    "collapsed": false
   },
   "outputs": [
    {
     "data": {
      "text/plain": [
       "Assuming a = 1\n"
      ]
     },
     "metadata": {},
     "output_type": "display_data"
    },
    {
     "data": {
      "text/plain": [
       "0x0\n"
      ]
     },
     "metadata": {},
     "output_type": "display_data"
    },
    {
     "data": {
      "text/html": [],
      "text/plain": []
     },
     "metadata": {},
     "output_type": "display_data"
    }
   ],
   "source": [
    "1 + 1"
   ]
  },
  {
   "cell_type": "code",
   "execution_count": 21,
   "metadata": {
    "collapsed": false
   },
   "outputs": [
    {
     "data": {
      "text/plain": [
       "0x2\n"
      ]
     },
     "metadata": {},
     "output_type": "display_data"
    },
    {
     "data": {
      "text/html": [],
      "text/plain": []
     },
     "metadata": {},
     "output_type": "display_data"
    }
   ],
   "source": [
    "(1 : [2]) + 1"
   ]
  },
  {
   "cell_type": "markdown",
   "metadata": {},
   "source": [
    "### Heterogeneous Tuples"
   ]
  },
  {
   "cell_type": "code",
   "execution_count": 22,
   "metadata": {
    "collapsed": false
   },
   "outputs": [
    {
     "data": {
      "text/html": [],
      "text/plain": []
     },
     "metadata": {},
     "output_type": "display_data"
    }
   ],
   "source": [
    "t = (13, \"hello\", True)"
   ]
  },
  {
   "cell_type": "code",
   "execution_count": 23,
   "metadata": {
    "collapsed": false
   },
   "outputs": [
    {
     "data": {
      "text/plain": [
       "\"hello\"\n"
      ]
     },
     "metadata": {},
     "output_type": "display_data"
    },
    {
     "data": {
      "text/html": [],
      "text/plain": []
     },
     "metadata": {},
     "output_type": "display_data"
    }
   ],
   "source": [
    "t.1"
   ]
  },
  {
   "cell_type": "markdown",
   "metadata": {},
   "source": [
    "### Records"
   ]
  },
  {
   "cell_type": "code",
   "execution_count": 24,
   "metadata": {
    "collapsed": false
   },
   "outputs": [
    {
     "data": {
      "text/html": [],
      "text/plain": []
     },
     "metadata": {},
     "output_type": "display_data"
    }
   ],
   "source": [
    "type Point3D = { x : [16], y : [16], z : [16] }\n",
    "p1 = { x = 22, y = 35, z = 18 } : Point3D"
   ]
  },
  {
   "cell_type": "code",
   "execution_count": 25,
   "metadata": {
    "collapsed": false
   },
   "outputs": [
    {
     "data": {
      "text/plain": [
       "0x0016\n"
      ]
     },
     "metadata": {},
     "output_type": "display_data"
    },
    {
     "data": {
      "text/html": [],
      "text/plain": []
     },
     "metadata": {},
     "output_type": "display_data"
    }
   ],
   "source": [
    "p1.x"
   ]
  },
  {
   "cell_type": "markdown",
   "metadata": {},
   "source": [
    "### Boolean operators\n",
    "\n",
    "- Defined on bits as well as pointwise on structures"
   ]
  },
  {
   "cell_type": "code",
   "execution_count": 26,
   "metadata": {
    "collapsed": false
   },
   "outputs": [
    {
     "data": {
      "text/html": [],
      "text/plain": []
     },
     "metadata": {},
     "output_type": "display_data"
    }
   ],
   "source": [
    "// Boolean operators defined on bits as well as pointwise on structures\n",
    "b = True || False\n",
    "w = 0xFFFF && 1\n",
    "ws = [0x0000, 0xFFFF] ^ [0x1A1A, 0x0F0F]\n",
    "p2 = ~p1"
   ]
  },
  {
   "cell_type": "code",
   "execution_count": 27,
   "metadata": {
    "collapsed": false
   },
   "outputs": [
    {
     "data": {
      "text/plain": [
       "(True,\n",
       " 0x0001,\n",
       " [0x1a1a, 0xf0f0],\n",
       " {x = 0xffe9, y = 0xffdc, z = 0xffed})\n"
      ]
     },
     "metadata": {},
     "output_type": "display_data"
    },
    {
     "data": {
      "text/html": [],
      "text/plain": []
     },
     "metadata": {},
     "output_type": "display_data"
    }
   ],
   "source": [
    "(b, w, ws, p2)"
   ]
  },
  {
   "cell_type": "markdown",
   "metadata": {},
   "source": [
    "### If-then-else"
   ]
  },
  {
   "cell_type": "code",
   "execution_count": 28,
   "metadata": {
    "collapsed": false
   },
   "outputs": [
    {
     "data": {
      "text/plain": [
       "0xbeef\n"
      ]
     },
     "metadata": {},
     "output_type": "display_data"
    },
    {
     "data": {
      "text/html": [],
      "text/plain": []
     },
     "metadata": {},
     "output_type": "display_data"
    }
   ],
   "source": [
    "if 0xFF < 42 then 0xdead else 0xbeef"
   ]
  },
  {
   "cell_type": "markdown",
   "metadata": {},
   "source": [
    "### Local Bindings\n",
    "\n",
    "- `where` clauses bind values within definitions"
   ]
  },
  {
   "cell_type": "code",
   "execution_count": 29,
   "metadata": {
    "collapsed": false
   },
   "outputs": [
    {
     "data": {
      "text/html": [],
      "text/plain": []
     },
     "metadata": {},
     "output_type": "display_data"
    }
   ],
   "source": [
    "isValid x = withinRange && isEven where\n",
    "  withinRange = x > 5 && x < 10\n",
    "  isEven = (x && 1) == 0 "
   ]
  },
  {
   "cell_type": "markdown",
   "metadata": {},
   "source": [
    "## Functions\n",
    "\n",
    "- Functions are _mathematical functions_, not procedures that return values\n",
    "- Functions can have multiple arguments and return multiple results in a tuple"
   ]
  },
  {
   "cell_type": "code",
   "execution_count": 30,
   "metadata": {
    "collapsed": false
   },
   "outputs": [
    {
     "data": {
      "text/html": [],
      "text/plain": []
     },
     "metadata": {},
     "output_type": "display_data"
    }
   ],
   "source": [
    "XYandXplusY : [8] -> [8] -> ([8], [8])\n",
    "XYandXplusY x y = (xy, x + y) \n",
    "     where xy = x * y"
   ]
  },
  {
   "cell_type": "markdown",
   "metadata": {},
   "source": [
    "- Functions can be anonymous with lambda"
   ]
  },
  {
   "cell_type": "code",
   "execution_count": 31,
   "metadata": {
    "collapsed": false
   },
   "outputs": [
    {
     "data": {
      "text/plain": [
       "<function>\n"
      ]
     },
     "metadata": {},
     "output_type": "display_data"
    },
    {
     "data": {
      "text/html": [],
      "text/plain": []
     },
     "metadata": {},
     "output_type": "display_data"
    }
   ],
   "source": [
    "(\\(x, y) -> 2 + x*y) : ([8], [8]) -> [8]"
   ]
  },
  {
   "cell_type": "markdown",
   "metadata": {},
   "source": [
    "## Exercises\n",
    "\n",
    "- Chapter 2: Crash Course\n",
    "    - Practice with basic language features\n",
    "    - More exercises than we have time for; skim and refer to later"
   ]
  },
  {
   "cell_type": "markdown",
   "metadata": {},
   "source": [
    "## Sequence Comprehensions\n",
    "\n",
    "_(Exercises 1:7-43)_\n",
    "\n",
    "- The most-used control structure in Cryptol\n",
    "\n",
    "#### Cartesian comprehensions\n",
    "\n",
    "![a cartesian traversal expression](images/cartesian.png)\n",
    "\n",
    "#### Parallel comprehensions\n",
    "\n",
    "![a parallel traversal expression](images/parallel.png)"
   ]
  },
  {
   "cell_type": "markdown",
   "metadata": {},
   "source": [
    "## Types\n",
    "\n",
    "_(Exercises 1:44-47)_\n",
    "\n",
    "- All expressions have strong static types\n",
    "- Type inference adds flexibility\n",
    "- Monomorphic types:\n",
    "```\n",
    "(2 >= 3) : Bit\n",
    "[0x02, 0x14, 0x05, 0x30] : [4][8]Bit      \n",
    "(3,5,True) : ([8],[32],Bool)\n",
    "F : ([16],[16]) -> [16] \n",
    "```\n",
    "- Polymorphic types (a family of types):\n",
    "```\n",
    "[2, 4, 5, 3] : {a}  [4][a]Bit\n",
    "tail : {a, b} [1 + a]b -> [a]b \n",
    "```"
   ]
  },
  {
   "cell_type": "markdown",
   "metadata": {},
   "source": [
    "## Modules\n",
    "\n",
    "- A module `Foo` is defined in `Foo.cry`\n",
    "\n",
    "```\n",
    "module Foo where\n",
    "\n",
    "import Bar\n",
    "\n",
    "x = Bar.baz + 1\n",
    "```\n",
    "\n",
    "- `import` statements go before declarations\n",
    "- Files with no module declaration are implicitly `Main`\n",
    "- Modules not currently supported in the ICryptol notebook"
   ]
  },
  {
   "cell_type": "markdown",
   "metadata": {},
   "source": [
    "## Recurrences\n",
    "\n",
    "- Shift circuits described in code\n",
    "- Stream definitions can be recursive and define infinite-length streams"
   ]
  },
  {
   "cell_type": "code",
   "execution_count": 32,
   "metadata": {
    "collapsed": false
   },
   "outputs": [
    {
     "data": {
      "text/html": [],
      "text/plain": []
     },
     "metadata": {},
     "output_type": "display_data"
    }
   ],
   "source": [
    "nats = [0] # [ y + 1 | y <- nats ]"
   ]
  },
  {
   "cell_type": "markdown",
   "metadata": {},
   "source": [
    "![a circuit diagram of the nats definition](images/nats.png)"
   ]
  },
  {
   "cell_type": "markdown",
   "metadata": {},
   "source": [
    "- Not limited to one initial value and one recursive reference"
   ]
  },
  {
   "cell_type": "code",
   "execution_count": 33,
   "metadata": {
    "collapsed": false
   },
   "outputs": [
    {
     "data": {
      "text/html": [],
      "text/plain": []
     },
     "metadata": {},
     "output_type": "display_data"
    }
   ],
   "source": [
    "as  = [0x3F, 0xE2, 0x65, 0xCA] # new\n",
    "new = [ a ^ b ^ c | a <- as\n",
    "                  | b <- drop`{1}as\n",
    "                  | c <- drop`{3}as ]"
   ]
  },
  {
   "cell_type": "markdown",
   "metadata": {},
   "source": [
    "![a circuit diagram of the stream equation as](images/stream.png)"
   ]
  },
  {
   "cell_type": "markdown",
   "metadata": {},
   "source": [
    "## Basic Functions\n",
    "\n",
    "- Some built-in primitives\n",
    "- Some functions defined in `Cryptol.cry` prelude"
   ]
  },
  {
   "cell_type": "code",
   "execution_count": 34,
   "metadata": {
    "collapsed": false
   },
   "outputs": [
    {
     "data": {
      "text/plain": [
       "Assuming a = 4\n"
      ]
     },
     "metadata": {},
     "output_type": "display_data"
    },
    {
     "data": {
      "text/plain": [
       "[0x2, 0x3]\n"
      ]
     },
     "metadata": {},
     "output_type": "display_data"
    },
    {
     "data": {
      "text/html": [],
      "text/plain": []
     },
     "metadata": {},
     "output_type": "display_data"
    }
   ],
   "source": [
    "take`{2}[2 .. 10]"
   ]
  },
  {
   "cell_type": "code",
   "execution_count": 35,
   "metadata": {
    "collapsed": false
   },
   "outputs": [
    {
     "data": {
      "text/plain": [
       "Assuming a = 4\n"
      ]
     },
     "metadata": {},
     "output_type": "display_data"
    },
    {
     "data": {
      "text/plain": [
       "[0x4, 0x5, 0x6, 0x7, 0x8, 0x9, 0xa]\n"
      ]
     },
     "metadata": {},
     "output_type": "display_data"
    },
    {
     "data": {
      "text/html": [],
      "text/plain": []
     },
     "metadata": {},
     "output_type": "display_data"
    }
   ],
   "source": [
    "drop`{2}[2 .. 10]"
   ]
  },
  {
   "cell_type": "code",
   "execution_count": 36,
   "metadata": {
    "collapsed": false
   },
   "outputs": [
    {
     "data": {
      "text/plain": [
       "groupBy : {each, parts, elem} (fin each) => [parts *\n",
       "                                             each]elem -> [parts][each]elem\n"
      ]
     },
     "metadata": {},
     "output_type": "display_data"
    },
    {
     "data": {
      "text/html": [],
      "text/plain": []
     },
     "metadata": {},
     "output_type": "display_data"
    }
   ],
   "source": [
    ":type groupBy"
   ]
  },
  {
   "cell_type": "code",
   "execution_count": 37,
   "metadata": {
    "collapsed": false
   },
   "outputs": [
    {
     "data": {
      "text/plain": [
       "Assuming a = 7\n"
      ]
     },
     "metadata": {},
     "output_type": "display_data"
    },
    {
     "data": {
      "text/plain": [
       "[[0x01, 0x02], [0x03, 0x04], [0x05, 0x06], [0x07, 0x08],\n",
       " [0x09, 0x0a], [0x0b, 0x0c], [0x0d, 0x0e], [0x0f, 0x10],\n",
       " [0x11, 0x12], [0x13, 0x14], [0x15, 0x16], [0x17, 0x18],\n",
       " [0x19, 0x1a], [0x1b, 0x1c], [0x1d, 0x1e], [0x1f, 0x20],\n",
       " [0x21, 0x22], [0x23, 0x24], [0x25, 0x26], [0x27, 0x28],\n",
       " [0x29, 0x2a], [0x2b, 0x2c], [0x2d, 0x2e], [0x2f, 0x30],\n",
       " [0x31, 0x32], [0x33, 0x34], [0x35, 0x36], [0x37, 0x38],\n",
       " [0x39, 0x3a], [0x3b, 0x3c], [0x3d, 0x3e], [0x3f, 0x40],\n",
       " [0x41, 0x42], [0x43, 0x44], [0x45, 0x46], [0x47, 0x48],\n",
       " [0x49, 0x4a], [0x4b, 0x4c], [0x4d, 0x4e], [0x4f, 0x50],\n",
       " [0x51, 0x52], [0x53, 0x54], [0x55, 0x56], [0x57, 0x58],\n",
       " [0x59, 0x5a], [0x5b, 0x5c], [0x5d, 0x5e], [0x5f, 0x60],\n",
       " [0x61, 0x62], [0x63, 0x64]]\n"
      ]
     },
     "metadata": {},
     "output_type": "display_data"
    },
    {
     "data": {
      "text/html": [],
      "text/plain": []
     },
     "metadata": {},
     "output_type": "display_data"
    }
   ],
   "source": [
    ":set ascii=off\n",
    "groupBy`{2}[1 .. 100]"
   ]
  },
  {
   "cell_type": "code",
   "execution_count": 38,
   "metadata": {
    "collapsed": false
   },
   "outputs": [
    {
     "data": {
      "text/plain": [
       "Assuming a = 7\n"
      ]
     },
     "metadata": {},
     "output_type": "display_data"
    },
    {
     "data": {
      "text/plain": [
       "[[0x01, 0x02, 0x03, 0x04, 0x05, 0x06, 0x07, 0x08, 0x09, 0x0a, 0x0b,\n",
       "  0x0c, 0x0d, 0x0e, 0x0f, 0x10, 0x11, 0x12, 0x13, 0x14, 0x15, 0x16,\n",
       "  0x17, 0x18, 0x19, 0x1a, 0x1b, 0x1c, 0x1d, 0x1e, 0x1f, 0x20, 0x21,\n",
       "  0x22, 0x23, 0x24, 0x25, 0x26, 0x27, 0x28, 0x29, 0x2a, 0x2b, 0x2c,\n",
       "  0x2d, 0x2e, 0x2f, 0x30, 0x31, 0x32],\n",
       " [0x33, 0x34, 0x35, 0x36, 0x37, 0x38, 0x39, 0x3a, 0x3b, 0x3c, 0x3d,\n",
       "  0x3e, 0x3f, 0x40, 0x41, 0x42, 0x43, 0x44, 0x45, 0x46, 0x47, 0x48,\n",
       "  0x49, 0x4a, 0x4b, 0x4c, 0x4d, 0x4e, 0x4f, 0x50, 0x51, 0x52, 0x53,\n",
       "  0x54, 0x55, 0x56, 0x57, 0x58, 0x59, 0x5a, 0x5b, 0x5c, 0x5d, 0x5e,\n",
       "  0x5f, 0x60, 0x61, 0x62, 0x63, 0x64]]\n"
      ]
     },
     "metadata": {},
     "output_type": "display_data"
    },
    {
     "data": {
      "text/html": [],
      "text/plain": []
     },
     "metadata": {},
     "output_type": "display_data"
    }
   ],
   "source": [
    "(split [1 .. 100]) : [2]_"
   ]
  },
  {
   "cell_type": "markdown",
   "metadata": {},
   "source": [
    "### Zero\n",
    "\n",
    "- Cryptol's `zero` is very flexible; it can have any type"
   ]
  },
  {
   "cell_type": "code",
   "execution_count": 39,
   "metadata": {
    "collapsed": false
   },
   "outputs": [
    {
     "data": {
      "text/plain": [
       "[[{x = 0x0000, y = 0x0000, z = 0x0000},\n",
       "  {x = 0x0000, y = 0x0000, z = 0x0000}],\n",
       " [{x = 0x0000, y = 0x0000, z = 0x0000},\n",
       "  {x = 0x0000, y = 0x0000, z = 0x0000}]]\n"
      ]
     },
     "metadata": {},
     "output_type": "display_data"
    },
    {
     "data": {
      "text/html": [],
      "text/plain": []
     },
     "metadata": {},
     "output_type": "display_data"
    }
   ],
   "source": [
    "zero : [2][2]Point3D"
   ]
  },
  {
   "cell_type": "markdown",
   "metadata": {},
   "source": [
    "- Negating `zero` is handy for getting a value of all `True`s"
   ]
  },
  {
   "cell_type": "code",
   "execution_count": 40,
   "metadata": {
    "collapsed": false
   },
   "outputs": [
    {
     "data": {
      "text/plain": [
       "{x = 0xffff, y = 0xffff, z = 0xffff}\n"
      ]
     },
     "metadata": {},
     "output_type": "display_data"
    },
    {
     "data": {
      "text/html": [],
      "text/plain": []
     },
     "metadata": {},
     "output_type": "display_data"
    }
   ],
   "source": [
    "~zero : Point3D"
   ]
  },
  {
   "cell_type": "markdown",
   "metadata": {},
   "source": [
    "## ROT13\n",
    "\n",
    "![\"ROT13 table with example\" by Benjamin D. Esham (bdesham) - Based upon ROT13.png by en:User:Matt Crypto. This version created by bdesham in Inkscape.This vector image was created with Inkscape.. Licensed under Public domain via Wikimedia Commons - http://commons.wikimedia.org/wiki/File:ROT13_table_with_example.svg#mediaviewer/File:ROT13_table_with_example.svg ](images/rot13.png)\n",
    "\n",
    "- Substitution cipher\n",
    "    - Each letter in the plaintext is replaced by a corresponding letter in the ciphertext\n",
    "- `ROT13(ROT13(x)) == x`\n",
    "- Hello World of cryptography (and Cryptol)"
   ]
  },
  {
   "cell_type": "code",
   "execution_count": 41,
   "metadata": {
    "collapsed": false
   },
   "outputs": [
    {
     "data": {
      "text/html": [],
      "text/plain": []
     },
     "metadata": {},
     "output_type": "display_data"
    }
   ],
   "source": [
    "ROT13 : {n} [n][8] -> [n][8]\n",
    "ROT13 msg = [ shift x | x <- msg ]\n",
    "  where map     = ['A' .. 'Z'] <<< 13\n",
    "        shift c = map @ (c - 'A') "
   ]
  },
  {
   "cell_type": "code",
   "execution_count": 42,
   "metadata": {
    "collapsed": false
   },
   "outputs": [
    {
     "data": {
      "text/html": [],
      "text/plain": []
     },
     "metadata": {},
     "output_type": "display_data"
    }
   ],
   "source": [
    "map = ['A' .. 'Z'] <<< 13"
   ]
  },
  {
   "cell_type": "code",
   "execution_count": 43,
   "metadata": {
    "collapsed": false
   },
   "outputs": [
    {
     "data": {
      "text/plain": [
       "Assuming a = 7\n"
      ]
     },
     "metadata": {},
     "output_type": "display_data"
    },
    {
     "data": {
      "text/plain": [
       "\"NOPQRA\"\n"
      ]
     },
     "metadata": {},
     "output_type": "display_data"
    },
    {
     "data": {
      "text/html": [],
      "text/plain": []
     },
     "metadata": {},
     "output_type": "display_data"
    }
   ],
   "source": [
    ":set ascii=on\n",
    "map @@ [0,1,2,3,4,13]"
   ]
  },
  {
   "cell_type": "code",
   "execution_count": 44,
   "metadata": {
    "collapsed": false
   },
   "outputs": [
    {
     "data": {
      "text/html": [],
      "text/plain": []
     },
     "metadata": {},
     "output_type": "display_data"
    }
   ],
   "source": [
    "shift c = map @ (c - 'A')"
   ]
  },
  {
   "cell_type": "code",
   "execution_count": 45,
   "metadata": {
    "collapsed": false
   },
   "outputs": [
    {
     "data": {
      "text/plain": [
       "Assuming a = 7\n"
      ]
     },
     "metadata": {},
     "output_type": "display_data"
    },
    {
     "data": {
      "text/plain": [
       "'P'\n"
      ]
     },
     "metadata": {},
     "output_type": "display_data"
    },
    {
     "data": {
      "text/html": [],
      "text/plain": []
     },
     "metadata": {},
     "output_type": "display_data"
    }
   ],
   "source": [
    "shift 'C'"
   ]
  },
  {
   "cell_type": "code",
   "execution_count": 46,
   "metadata": {
    "collapsed": false
   },
   "outputs": [
    {
     "data": {
      "text/plain": [
       "True\n"
      ]
     },
     "metadata": {},
     "output_type": "display_data"
    },
    {
     "data": {
      "text/html": [],
      "text/plain": []
     },
     "metadata": {},
     "output_type": "display_data"
    }
   ],
   "source": [
    "('C' - 'A') == 2"
   ]
  },
  {
   "cell_type": "code",
   "execution_count": 47,
   "metadata": {
    "collapsed": false
   },
   "outputs": [
    {
     "data": {
      "text/plain": [
       "Assuming a = 7\n"
      ]
     },
     "metadata": {},
     "output_type": "display_data"
    },
    {
     "data": {
      "text/plain": [
       "'P'\n"
      ]
     },
     "metadata": {},
     "output_type": "display_data"
    },
    {
     "data": {
      "text/html": [],
      "text/plain": []
     },
     "metadata": {},
     "output_type": "display_data"
    }
   ],
   "source": [
    "map @ 2"
   ]
  },
  {
   "cell_type": "code",
   "execution_count": 48,
   "metadata": {
    "collapsed": false
   },
   "outputs": [
    {
     "data": {
      "text/plain": [
       "Assuming a = 7\n"
      ]
     },
     "metadata": {},
     "output_type": "display_data"
    },
    {
     "data": {
      "text/plain": [
       "\"URYYB\"\n"
      ]
     },
     "metadata": {},
     "output_type": "display_data"
    },
    {
     "data": {
      "text/html": [],
      "text/plain": []
     },
     "metadata": {},
     "output_type": "display_data"
    }
   ],
   "source": [
    "[ shift x | x <- \"HELLO\" ]"
   ]
  },
  {
   "cell_type": "markdown",
   "metadata": {},
   "source": [
    "## Exercises\n",
    "\n",
    "- With `ROT13` defined in `ROT13.cry` (in this repo)\n",
    "\n",
    "```\n",
    "Cryptol> :l ROT13.cry\n",
    "Loading module Cryptol\n",
    "Loading module Main\n",
    "Main> :set ascii=on\n",
    "Main> ROT13(\"HELLOWORLD\")\n",
    "“URYYBJBEYQ\"\n",
    "Main> ROT13(ROT13(\"HELLOWORLD\"))\n",
    "\"HELLOWORLD\"\n",
    "```\n",
    "\n",
    "- Chapter 3: Classic Ciphers\n",
    "    - Substitution ciphers: Caesar, Vigenère\n",
    "    - Try to make it through Exercises 1-10"
   ]
  },
  {
   "cell_type": "markdown",
   "metadata": {},
   "source": [
    "## Property-Driven Development\n",
    "\n",
    "Properties can express:\n",
    "\n",
    "- Correctness properties of a specification for validation\n",
    "- Equivalence of a high-level specification and an \"implementation-specification\"\n",
    "- Design principles that guide the development of a derived specification\n",
    "- The correctness of a compilation path\n",
    "- Equivalence of an implementation outside Cryptol and a specification\n",
    "\n",
    "### Design-Refinement Correctness\n",
    "\n",
    "![The design-refinement correctness process: reference specification -> refinement -> optimization -> target specification](images/design-refinement.png)\n",
    "\n",
    "### Properties in Cryptol\n",
    "\n",
    "- Cryptol values of type `Bit`: good for test vectors"
   ]
  },
  {
   "cell_type": "code",
   "execution_count": 49,
   "metadata": {
    "collapsed": false
   },
   "outputs": [
    {
     "data": {
      "text/html": [],
      "text/plain": []
     },
     "metadata": {},
     "output_type": "display_data"
    }
   ],
   "source": [
    "property two_plus_two = 2 + 2 == 4\n",
    "property ROT13_hello = ROT13(\"HELLO\") == \"URYYB\""
   ]
  },
  {
   "cell_type": "markdown",
   "metadata": {},
   "source": [
    "- Cryptol functions returning type `Bit`: good for broader statements"
   ]
  },
  {
   "cell_type": "code",
   "execution_count": 50,
   "metadata": {
    "collapsed": false
   },
   "outputs": [
    {
     "data": {
      "text/html": [],
      "text/plain": []
     },
     "metadata": {},
     "output_type": "display_data"
    }
   ],
   "source": [
    "property plus_id_l x = 0 + x == x\n",
    "property plus_assoc x y z = x + (y + z) == (x + y) + z"
   ]
  },
  {
   "cell_type": "markdown",
   "metadata": {},
   "source": [
    "- Arguments to properties can be any type\n",
    "\n",
    "### Randomized Testing\n",
    "\n",
    "- `:check` evaluates a property with random values (like QuickCheck)"
   ]
  },
  {
   "cell_type": "code",
   "execution_count": 51,
   "metadata": {
    "collapsed": false
   },
   "outputs": [
    {
     "data": {
      "text/plain": [
       "Using random testing.\n"
      ]
     },
     "metadata": {},
     "output_type": "display_data"
    },
    {
     "data": {
      "text/plain": [
       "testing..."
      ]
     },
     "metadata": {},
     "output_type": "display_data"
    },
    {
     "data": {
      "text/plain": [
       "passed 100 tests.\n"
      ]
     },
     "metadata": {},
     "output_type": "display_data"
    },
    {
     "data": {
      "text/plain": [
       "Coverage: 39.06% (100 of 256 values)\n"
      ]
     },
     "metadata": {},
     "output_type": "display_data"
    },
    {
     "data": {
      "text/html": [],
      "text/plain": []
     },
     "metadata": {},
     "output_type": "display_data"
    }
   ],
   "source": [
    ":check \\(x : [8]) -> x + 1 != x"
   ]
  },
  {
   "cell_type": "markdown",
   "metadata": {},
   "source": [
    "- `:check` either takes an expression, or checks all properties in the file\n",
    "- Intended as fast and easy checking as you program"
   ]
  },
  {
   "cell_type": "markdown",
   "metadata": {},
   "source": [
    "### Proving Properties\n",
    "\n",
    "- `:check` does not give proof\n",
    "- `:prove` has the same syntax, but proves properties for all values"
   ]
  },
  {
   "cell_type": "code",
   "execution_count": 52,
   "metadata": {
    "collapsed": false
   },
   "outputs": [
    {
     "data": {
      "text/plain": [
       "Q.E.D.\n"
      ]
     },
     "metadata": {},
     "output_type": "display_data"
    },
    {
     "data": {
      "text/html": [],
      "text/plain": []
     },
     "metadata": {},
     "output_type": "display_data"
    }
   ],
   "source": [
    ":prove \\(x : [8]) -> x + 1 != x"
   ]
  },
  {
   "cell_type": "markdown",
   "metadata": {},
   "source": [
    "- If a property is falsifiable, `:check` and `:prove` give counterexamples"
   ]
  },
  {
   "cell_type": "code",
   "execution_count": 53,
   "metadata": {
    "collapsed": false
   },
   "outputs": [
    {
     "data": {
      "text/plain": [
       "Using exhaustive testing.\n"
      ]
     },
     "metadata": {},
     "output_type": "display_data"
    },
    {
     "data": {
      "text/plain": [
       "FAILED for the following inputs:\n"
      ]
     },
     "metadata": {},
     "output_type": "display_data"
    },
    {
     "data": {
      "text/plain": [
       "0x7\n"
      ]
     },
     "metadata": {},
     "output_type": "display_data"
    },
    {
     "data": {
      "text/html": [],
      "text/plain": []
     },
     "metadata": {},
     "output_type": "display_data"
    }
   ],
   "source": [
    ":check \\x -> x != 0x7"
   ]
  },
  {
   "cell_type": "markdown",
   "metadata": {},
   "source": [
    "- Depending on the size of the input, `:prove` can be much more effective"
   ]
  },
  {
   "cell_type": "code",
   "execution_count": 54,
   "metadata": {
    "collapsed": false
   },
   "outputs": [
    {
     "data": {
      "text/html": [],
      "text/plain": []
     },
     "metadata": {},
     "output_type": "display_data"
    }
   ],
   "source": [
    "haystack x = x != 0xdeadbeef"
   ]
  },
  {
   "cell_type": "code",
   "execution_count": 55,
   "metadata": {
    "collapsed": false
   },
   "outputs": [
    {
     "data": {
      "text/plain": [
       "Using random testing.\n"
      ]
     },
     "metadata": {},
     "output_type": "display_data"
    },
    {
     "data": {
      "text/plain": [
       "testing..."
      ]
     },
     "metadata": {},
     "output_type": "display_data"
    },
    {
     "data": {
      "text/plain": [
       "passed 100 tests.\n"
      ]
     },
     "metadata": {},
     "output_type": "display_data"
    },
    {
     "data": {
      "text/plain": [
       "Coverage: 0.00% (100 of 2^^32 values)\n"
      ]
     },
     "metadata": {},
     "output_type": "display_data"
    },
    {
     "data": {
      "text/html": [],
      "text/plain": []
     },
     "metadata": {},
     "output_type": "display_data"
    }
   ],
   "source": [
    ":check haystack"
   ]
  },
  {
   "cell_type": "code",
   "execution_count": 56,
   "metadata": {
    "collapsed": false
   },
   "outputs": [
    {
     "data": {
      "text/plain": [
       "haystack 0xdeadbeef = False\n"
      ]
     },
     "metadata": {},
     "output_type": "display_data"
    },
    {
     "data": {
      "text/html": [],
      "text/plain": []
     },
     "metadata": {},
     "output_type": "display_data"
    }
   ],
   "source": [
    ":prove haystack"
   ]
  },
  {
   "cell_type": "markdown",
   "metadata": {},
   "source": [
    "### Monomorphic Properties\n",
    "\n",
    "- Cryptol cannot currently reason about polymorphic functions"
   ]
  },
  {
   "cell_type": "code",
   "execution_count": 57,
   "metadata": {
    "collapsed": false
   },
   "outputs": [
    {
     "data": {
      "text/html": [],
      "text/plain": []
     },
     "metadata": {},
     "output_type": "display_data"
    }
   ],
   "source": [
    "property plus_id_l x = 0 + x == x"
   ]
  },
  {
   "cell_type": "code",
   "execution_count": 58,
   "metadata": {
    "collapsed": false
   },
   "outputs": [
    {
     "data": {
      "text/plain": [
       "Not a monomorphic type:\n",
       "{a} (fin a) => [a] -> Bit\n"
      ]
     },
     "metadata": {},
     "output_type": "display_data"
    },
    {
     "data": {
      "text/html": [],
      "text/plain": []
     },
     "metadata": {},
     "output_type": "display_data"
    }
   ],
   "source": [
    ":prove plus_id_l"
   ]
  },
  {
   "cell_type": "markdown",
   "metadata": {},
   "source": [
    "- Instead, we provide a monomorphic type signature"
   ]
  },
  {
   "cell_type": "code",
   "execution_count": 59,
   "metadata": {
    "collapsed": false
   },
   "outputs": [
    {
     "data": {
      "text/plain": [
       "Q.E.D.\n"
      ]
     },
     "metadata": {},
     "output_type": "display_data"
    },
    {
     "data": {
      "text/html": [],
      "text/plain": []
     },
     "metadata": {},
     "output_type": "display_data"
    }
   ],
   "source": [
    ":prove plus_id_l : [32] -> Bit"
   ]
  },
  {
   "cell_type": "markdown",
   "metadata": {},
   "source": [
    "- Increase assurance by making similar properties at multiple types"
   ]
  },
  {
   "cell_type": "code",
   "execution_count": 60,
   "metadata": {
    "collapsed": false
   },
   "outputs": [
    {
     "data": {
      "text/html": [],
      "text/plain": []
     },
     "metadata": {},
     "output_type": "display_data"
    }
   ],
   "source": [
    "plus_id_l_1   : [1]   -> Bit\n",
    "plus_id_l_8   : [8]   -> Bit\n",
    "plus_id_l_32  : [32]  -> Bit\n",
    "plus_id_l_128 : [128] -> Bit\n",
    "property plus_id_l_1   x = plus_id_l x\n",
    "property plus_id_l_8   x = plus_id_l x\n",
    "property plus_id_l_32  x = plus_id_l x\n",
    "property plus_id_l_128 x = plus_id_l x"
   ]
  },
  {
   "cell_type": "code",
   "execution_count": 61,
   "metadata": {
    "collapsed": false
   },
   "outputs": [
    {
     "data": {
      "text/plain": [
       ":prove ROT13_hello\n",
       "\t"
      ]
     },
     "metadata": {},
     "output_type": "display_data"
    },
    {
     "data": {
      "text/plain": [
       "Q.E.D.\n"
      ]
     },
     "metadata": {},
     "output_type": "display_data"
    },
    {
     "data": {
      "text/plain": [
       ":prove plus_assoc\n",
       "\t"
      ]
     },
     "metadata": {},
     "output_type": "display_data"
    },
    {
     "data": {
      "text/plain": [
       "Not a monomorphic type:\n",
       "{a} (Cmp a, Arith a) => a -> a -> a -> Bit\n"
      ]
     },
     "metadata": {},
     "output_type": "display_data"
    },
    {
     "data": {
      "text/plain": [
       ":prove plus_id_l\n",
       "\t"
      ]
     },
     "metadata": {},
     "output_type": "display_data"
    },
    {
     "data": {
      "text/plain": [
       "Not a monomorphic type:\n",
       "{a} (fin a) => [a] -> Bit\n"
      ]
     },
     "metadata": {},
     "output_type": "display_data"
    },
    {
     "data": {
      "text/plain": [
       ":prove plus_id_l_1\n",
       "\t"
      ]
     },
     "metadata": {},
     "output_type": "display_data"
    },
    {
     "data": {
      "text/plain": [
       "Q.E.D.\n"
      ]
     },
     "metadata": {},
     "output_type": "display_data"
    },
    {
     "data": {
      "text/plain": [
       ":prove plus_id_l_128\n",
       "\t"
      ]
     },
     "metadata": {},
     "output_type": "display_data"
    },
    {
     "data": {
      "text/plain": [
       "Q.E.D.\n"
      ]
     },
     "metadata": {},
     "output_type": "display_data"
    },
    {
     "data": {
      "text/plain": [
       ":prove plus_id_l_32\n",
       "\t"
      ]
     },
     "metadata": {},
     "output_type": "display_data"
    },
    {
     "data": {
      "text/plain": [
       "Q.E.D.\n"
      ]
     },
     "metadata": {},
     "output_type": "display_data"
    },
    {
     "data": {
      "text/plain": [
       ":prove plus_id_l_8\n",
       "\t"
      ]
     },
     "metadata": {},
     "output_type": "display_data"
    },
    {
     "data": {
      "text/plain": [
       "Q.E.D.\n"
      ]
     },
     "metadata": {},
     "output_type": "display_data"
    },
    {
     "data": {
      "text/plain": [
       ":prove two_plus_two\n",
       "\t"
      ]
     },
     "metadata": {},
     "output_type": "display_data"
    },
    {
     "data": {
      "text/plain": [
       "Q.E.D.\n"
      ]
     },
     "metadata": {},
     "output_type": "display_data"
    },
    {
     "data": {
      "text/html": [],
      "text/plain": []
     },
     "metadata": {},
     "output_type": "display_data"
    }
   ],
   "source": [
    ":prove"
   ]
  },
  {
   "cell_type": "markdown",
   "metadata": {},
   "source": [
    "### Satisfiability\n",
    "\n",
    "- `:prove`: is a property true for all inputs?\n",
    "- `:sat`: is there any input that makes this property true?\n",
    "\n",
    "#### Example\n",
    "- Cryptol does not come with matrix math routines, but we can implement them"
   ]
  },
  {
   "cell_type": "code",
   "execution_count": 62,
   "metadata": {
    "collapsed": false
   },
   "outputs": [
    {
     "data": {
      "text/html": [],
      "text/plain": []
     },
     "metadata": {},
     "output_type": "display_data"
    }
   ],
   "source": [
    "mmult : {a, b, c, w} (fin a, fin b, fin w)\n",
    "     =>  [a][b][w] -> [b][c][w] -> [a][c][w]\n",
    "mmult xss yss = [ [ sum (col * row) | col <- transpose yss ] \n",
    "                  | row <- xss ]\n",
    "\n",
    "sum : {a,n} (Arith a, fin n) => [n]a -> a\n",
    "sum xs = sums!0\n",
    "  where sums = [zero] # [ x + y | x <- xs | y <- sums ]\n",
    "\n",
    "// 3x3 identity matrix\n",
    "mi = [[1,0,0],\n",
    "      [0,1,0],\n",
    "      [0,0,1]] "
   ]
  },
  {
   "cell_type": "markdown",
   "metadata": {},
   "source": [
    "- Now we can use `:sat` to invert a matrix"
   ]
  },
  {
   "cell_type": "code",
   "execution_count": 63,
   "metadata": {
    "collapsed": false
   },
   "outputs": [
    {
     "data": {
      "text/html": [],
      "text/plain": []
     },
     "metadata": {},
     "output_type": "display_data"
    }
   ],
   "source": [
    "ma : [3][3][72]\n",
    "ma = [[4,2,3],\n",
    "      [8,5,2],\n",
    "      [5,8,9]]"
   ]
  },
  {
   "cell_type": "code",
   "execution_count": 64,
   "metadata": {
    "collapsed": false
   },
   "outputs": [
    {
     "data": {
      "text/plain": [
       "(\\x -> mmult ma x == mi) [[0xbbe3d1070bbe3d1071,\n",
       "                           0xf1e88385df1e88385e, 0x19d5b98a919d5b98a9],\n",
       "                          [0x919d5b98a919d5b98a, 0xceadcc548ceadcc549, 0xda6c0964fda6c09650],\n",
       "                          [0xa46756e62a46756e63, 0x33ab7315233ab73152,\n",
       "                           0xf69b02593f69b02594]] = True\n"
      ]
     },
     "metadata": {},
     "output_type": "display_data"
    },
    {
     "data": {
      "text/html": [],
      "text/plain": []
     },
     "metadata": {},
     "output_type": "display_data"
    }
   ],
   "source": [
    ":sat \\x -> mmult ma x == mi"
   ]
  },
  {
   "cell_type": "markdown",
   "metadata": {},
   "source": [
    "## Exercises\n",
    "\n",
    "- Chapter 5: High-Assurance Programming\n",
    "    - Example properties and intro to random testing, automated proving, and satisfiability checking\n",
    "    - Try to look at Exercises 1-9, 12, 14, 15, 17-19"
   ]
  },
  {
   "cell_type": "markdown",
   "metadata": {},
   "source": [
    "## ZUC Demo\n",
    "\n",
    "- ZUC: stream cipher in GSM cell phone standards\n",
    "- ZUC 1.4 had a bug; we can find it with `:prove`\n",
    "- Detailed (Cryptol 1) writeup at <https://galois.com/blog/2011/06/zuc-in-cryptol/>"
   ]
  },
  {
   "cell_type": "markdown",
   "metadata": {},
   "source": [
    "## Open Source\n",
    "\n",
    "- Homepage <www.cryptol.net>\n",
    "- GitHub <www.github.com/GaloisInc/cryptol>\n",
    "- Now on Hackage, Homebrew, Nixpkgs\n",
    "- Mailing list <http://community.galois.com/mailman/listinfo/cryptol-users>\n",
    "- Community Contributions\n",
    "    - /examples/contrib\n",
    "    - 13 pull requests and counting from folks outside Galois "
   ]
  }
 ],
 "metadata": {
  "kernelspec": {
   "display_name": "Haskell",
   "language": "haskell",
   "name": "haskell"
  }
 },
 "nbformat": 4,
 "nbformat_minor": 0
}
