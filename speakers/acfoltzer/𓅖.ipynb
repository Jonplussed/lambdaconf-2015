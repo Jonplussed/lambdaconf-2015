{
 "cells": [
  {
   "cell_type": "code",
   "execution_count": 1,
   "metadata": {
    "collapsed": false
   },
   "outputs": [
    {
     "data": {
      "text/html": [],
      "text/plain": []
     },
     "metadata": {},
     "output_type": "display_data"
    }
   ],
   "source": [
    "type 𓃊 = Bit\n",
    "type 𓂰 = [4]\n",
    "\n",
    "𓅓𓊪 : {𓃀, 𓄿} (𓄿 -> 𓄿) -> [𓃀] 𓄿 -> [𓃀] 𓄿\n",
    "𓅓𓊪 𓆑 𓇌 = [ 𓆑 𓇋 | 𓇋 <- 𓇌 ]\n",
    "\n",
    "𓂀 : {𓄿} 𓄿 -> 𓄿\n",
    "𓂀 𓇋 = 𓇋\n",
    "\n",
    "𓂀𓅓𓊪 : 𓂰 -> 𓃊\n",
    "property 𓂀𓅓𓊪 𓇌 = 𓇌 == 𓅓𓊪 𓂀 𓇌"
   ]
  },
  {
   "cell_type": "code",
   "execution_count": 2,
   "metadata": {
    "collapsed": false
   },
   "outputs": [
    {
     "data": {
      "text/plain": [
       "Q.E.D.\n"
      ]
     },
     "metadata": {},
     "output_type": "display_data"
    },
    {
     "data": {
      "text/html": [],
      "text/plain": []
     },
     "metadata": {},
     "output_type": "display_data"
    }
   ],
   "source": [
    ":prove 𓂀𓅓𓊪"
   ]
  },
  {
   "cell_type": "code",
   "execution_count": null,
   "metadata": {
    "collapsed": true
   },
   "outputs": [],
   "source": []
  }
 ],
 "metadata": {
  "kernelspec": {
   "display_name": "Haskell",
   "language": "haskell",
   "name": "haskell"
  }
 },
 "nbformat": 4,
 "nbformat_minor": 0
}
